{
 "cells": [
  {
   "cell_type": "code",
   "execution_count": 1,
   "metadata": {},
   "outputs": [],
   "source": [
    "import numpy as np\n",
    "import pandas as pd\n",
    "import networkx as nx\n",
    "import re\n",
    "import json"
   ]
  },
  {
   "cell_type": "code",
   "execution_count": 5,
   "metadata": {},
   "outputs": [],
   "source": [
    "fp = './data/tweets.csv'\n",
    "# fp = './data/tweets.xlsx'\n",
    "# fp = './data/les_miserables.json'\n",
    "# fp = './data/lesmiserables.gml'\n",
    "# fp = './data/cpan-authors.gexf'"
   ]
  },
  {
   "cell_type": "code",
   "execution_count": 6,
   "metadata": {},
   "outputs": [],
   "source": [
    "from modules.document_processing import DocumentGraphProcessing"
   ]
  },
  {
   "cell_type": "code",
   "execution_count": 7,
   "metadata": {},
   "outputs": [
    {
     "name": "stdout",
     "output_type": "stream",
     "text": [
      "Enter sink and source for data processing\n"
     ]
    },
    {
     "ename": "TypeError",
     "evalue": "object of type 'NoneType' has no len()",
     "output_type": "error",
     "traceback": [
      "\u001b[1;31m---------------------------------------------------------------------------\u001b[0m",
      "\u001b[1;31mTypeError\u001b[0m                                 Traceback (most recent call last)",
      "\u001b[1;32mc:\\Users\\Dell\\source\\repos\\gordian\\Graph_Processing_Prototyping.ipynb Cell 4\u001b[0m in \u001b[0;36m<cell line: 1>\u001b[1;34m()\u001b[0m\n\u001b[1;32m----> <a href='vscode-notebook-cell:/c%3A/Users/Dell/source/repos/gordian/Graph_Processing_Prototyping.ipynb#W3sZmlsZQ%3D%3D?line=0'>1</a>\u001b[0m p \u001b[39m=\u001b[39m DocumentGraphProcessing(fp)\n",
      "File \u001b[1;32mc:\\Users\\Dell\\source\\repos\\gordian\\modules\\document_processing.py:15\u001b[0m, in \u001b[0;36mDocumentGraphProcessing.__init__\u001b[1;34m(self, filepath, source, sink)\u001b[0m\n\u001b[0;32m     12\u001b[0m \u001b[39mself\u001b[39m\u001b[39m.\u001b[39msource_col \u001b[39m=\u001b[39m source\n\u001b[0;32m     13\u001b[0m \u001b[39mself\u001b[39m\u001b[39m.\u001b[39msink_col \u001b[39m=\u001b[39m sink\n\u001b[1;32m---> 15\u001b[0m \u001b[39mself\u001b[39;49m\u001b[39m.\u001b[39;49mdetect_filetype()\n",
      "File \u001b[1;32mc:\\Users\\Dell\\source\\repos\\gordian\\modules\\document_processing.py:45\u001b[0m, in \u001b[0;36mDocumentGraphProcessing.detect_filetype\u001b[1;34m(self)\u001b[0m\n\u001b[0;32m     42\u001b[0m \u001b[39mif\u001b[39;00m \u001b[39mself\u001b[39m\u001b[39m.\u001b[39mg \u001b[39mis\u001b[39;00m \u001b[39mnot\u001b[39;00m \u001b[39mNone\u001b[39;00m:\n\u001b[0;32m     43\u001b[0m     \u001b[39mself\u001b[39m\u001b[39m.\u001b[39mn_nodes \u001b[39m=\u001b[39m \u001b[39mlen\u001b[39m(\u001b[39mself\u001b[39m\u001b[39m.\u001b[39mg\u001b[39m.\u001b[39mnodes)\n\u001b[1;32m---> 45\u001b[0m \u001b[39mself\u001b[39;49m\u001b[39m.\u001b[39;49mcalculate_centrality()\n",
      "File \u001b[1;32mc:\\Users\\Dell\\source\\repos\\gordian\\modules\\document_processing.py:100\u001b[0m, in \u001b[0;36mDocumentGraphProcessing.calculate_centrality\u001b[1;34m(self)\u001b[0m\n\u001b[0;32m     99\u001b[0m \u001b[39mdef\u001b[39;00m \u001b[39mcalculate_centrality\u001b[39m(\u001b[39mself\u001b[39m):\n\u001b[1;32m--> 100\u001b[0m     deg \u001b[39m=\u001b[39m nx\u001b[39m.\u001b[39;49mdegree_centrality(\u001b[39mself\u001b[39;49m\u001b[39m.\u001b[39;49mg)\n\u001b[0;32m    101\u001b[0m     closeness \u001b[39m=\u001b[39m nx\u001b[39m.\u001b[39mcloseness_centrality(\u001b[39mself\u001b[39m\u001b[39m.\u001b[39mg)\n\u001b[0;32m    102\u001b[0m     betweenness \u001b[39m=\u001b[39m nx\u001b[39m.\u001b[39mbetweenness_centrality(\u001b[39mself\u001b[39m\u001b[39m.\u001b[39mg)\n",
      "File \u001b[1;32mc:\\Program Files (x86)\\Microsoft Visual Studio\\Shared\\Python39_64\\lib\\site-packages\\networkx\\algorithms\\centrality\\degree_alg.py:36\u001b[0m, in \u001b[0;36mdegree_centrality\u001b[1;34m(G)\u001b[0m\n\u001b[0;32m      7\u001b[0m \u001b[39mdef\u001b[39;00m \u001b[39mdegree_centrality\u001b[39m(G):\n\u001b[0;32m      8\u001b[0m     \u001b[39m\"\"\"Compute the degree centrality for nodes.\u001b[39;00m\n\u001b[0;32m      9\u001b[0m \n\u001b[0;32m     10\u001b[0m \u001b[39m    The degree centrality for a node v is the fraction of nodes it\u001b[39;00m\n\u001b[1;32m   (...)\u001b[0m\n\u001b[0;32m     34\u001b[0m \u001b[39m    are possible.\u001b[39;00m\n\u001b[0;32m     35\u001b[0m \u001b[39m    \"\"\"\u001b[39;00m\n\u001b[1;32m---> 36\u001b[0m     \u001b[39mif\u001b[39;00m \u001b[39mlen\u001b[39;49m(G) \u001b[39m<\u001b[39m\u001b[39m=\u001b[39m \u001b[39m1\u001b[39m:\n\u001b[0;32m     37\u001b[0m         \u001b[39mreturn\u001b[39;00m {n: \u001b[39m1\u001b[39m \u001b[39mfor\u001b[39;00m n \u001b[39min\u001b[39;00m G}\n\u001b[0;32m     39\u001b[0m     s \u001b[39m=\u001b[39m \u001b[39m1.0\u001b[39m \u001b[39m/\u001b[39m (\u001b[39mlen\u001b[39m(G) \u001b[39m-\u001b[39m \u001b[39m1.0\u001b[39m)\n",
      "\u001b[1;31mTypeError\u001b[0m: object of type 'NoneType' has no len()"
     ]
    }
   ],
   "source": [
    "p = DocumentGraphProcessing(fp)"
   ]
  },
  {
   "cell_type": "code",
   "execution_count": 8,
   "metadata": {},
   "outputs": [],
   "source": [
    "p = DocumentGraphProcessing(fp,'handle', 'original_author')"
   ]
  },
  {
   "cell_type": "code",
   "execution_count": 9,
   "metadata": {},
   "outputs": [
    {
     "data": {
      "text/plain": [
       "'./data/tweets.csv'"
      ]
     },
     "execution_count": 9,
     "metadata": {},
     "output_type": "execute_result"
    }
   ],
   "source": [
    "p.FILEPATH"
   ]
  },
  {
   "cell_type": "code",
   "execution_count": null,
   "metadata": {},
   "outputs": [],
   "source": [
    "# p.detect_filetype()"
   ]
  },
  {
   "cell_type": "code",
   "execution_count": 10,
   "metadata": {},
   "outputs": [
    {
     "data": {
      "text/plain": [
       "'csv'"
      ]
     },
     "execution_count": 10,
     "metadata": {},
     "output_type": "execute_result"
    }
   ],
   "source": [
    "p.file_ext"
   ]
  },
  {
   "cell_type": "code",
   "execution_count": 11,
   "metadata": {},
   "outputs": [
    {
     "data": {
      "text/html": [
       "<div>\n",
       "<style scoped>\n",
       "    .dataframe tbody tr th:only-of-type {\n",
       "        vertical-align: middle;\n",
       "    }\n",
       "\n",
       "    .dataframe tbody tr th {\n",
       "        vertical-align: top;\n",
       "    }\n",
       "\n",
       "    .dataframe thead th {\n",
       "        text-align: right;\n",
       "    }\n",
       "</style>\n",
       "<table border=\"1\" class=\"dataframe\">\n",
       "  <thead>\n",
       "    <tr style=\"text-align: right;\">\n",
       "      <th></th>\n",
       "      <th>id</th>\n",
       "      <th>handle</th>\n",
       "      <th>text</th>\n",
       "      <th>is_retweet</th>\n",
       "      <th>original_author</th>\n",
       "      <th>time</th>\n",
       "      <th>in_reply_to_screen_name</th>\n",
       "      <th>in_reply_to_status_id</th>\n",
       "      <th>in_reply_to_user_id</th>\n",
       "      <th>is_quote_status</th>\n",
       "      <th>...</th>\n",
       "      <th>place_type</th>\n",
       "      <th>place_country_code</th>\n",
       "      <th>place_country</th>\n",
       "      <th>place_contained_within</th>\n",
       "      <th>place_attributes</th>\n",
       "      <th>place_bounding_box</th>\n",
       "      <th>source_url</th>\n",
       "      <th>truncated</th>\n",
       "      <th>entities</th>\n",
       "      <th>extended_entities</th>\n",
       "    </tr>\n",
       "  </thead>\n",
       "  <tbody>\n",
       "    <tr>\n",
       "      <th>0</th>\n",
       "      <td>780925634159796224</td>\n",
       "      <td>HillaryClinton</td>\n",
       "      <td>The question in this election: Who can put the...</td>\n",
       "      <td>False</td>\n",
       "      <td>NaN</td>\n",
       "      <td>2016-09-28T00:22:34</td>\n",
       "      <td>NaN</td>\n",
       "      <td>NaN</td>\n",
       "      <td>NaN</td>\n",
       "      <td>False</td>\n",
       "      <td>...</td>\n",
       "      <td>NaN</td>\n",
       "      <td>NaN</td>\n",
       "      <td>NaN</td>\n",
       "      <td>NaN</td>\n",
       "      <td>NaN</td>\n",
       "      <td>NaN</td>\n",
       "      <td>https://studio.twitter.com</td>\n",
       "      <td>False</td>\n",
       "      <td>{'media': [{'display_url': 'pic.twitter.com/Xr...</td>\n",
       "      <td>{'media': [{'display_url': 'pic.twitter.com/Xr...</td>\n",
       "    </tr>\n",
       "    <tr>\n",
       "      <th>1</th>\n",
       "      <td>780916180899037184</td>\n",
       "      <td>HillaryClinton</td>\n",
       "      <td>Last night, Donald Trump said not paying taxes...</td>\n",
       "      <td>True</td>\n",
       "      <td>timkaine</td>\n",
       "      <td>2016-09-27T23:45:00</td>\n",
       "      <td>NaN</td>\n",
       "      <td>NaN</td>\n",
       "      <td>NaN</td>\n",
       "      <td>False</td>\n",
       "      <td>...</td>\n",
       "      <td>NaN</td>\n",
       "      <td>NaN</td>\n",
       "      <td>NaN</td>\n",
       "      <td>NaN</td>\n",
       "      <td>NaN</td>\n",
       "      <td>NaN</td>\n",
       "      <td>http://twitter.com</td>\n",
       "      <td>False</td>\n",
       "      <td>{'media': [{'display_url': 'pic.twitter.com/t0...</td>\n",
       "      <td>{'media': [{'display_url': 'pic.twitter.com/t0...</td>\n",
       "    </tr>\n",
       "    <tr>\n",
       "      <th>2</th>\n",
       "      <td>780911564857761793</td>\n",
       "      <td>HillaryClinton</td>\n",
       "      <td>Couldn't be more proud of @HillaryClinton. Her...</td>\n",
       "      <td>True</td>\n",
       "      <td>POTUS</td>\n",
       "      <td>2016-09-27T23:26:40</td>\n",
       "      <td>NaN</td>\n",
       "      <td>NaN</td>\n",
       "      <td>NaN</td>\n",
       "      <td>False</td>\n",
       "      <td>...</td>\n",
       "      <td>NaN</td>\n",
       "      <td>NaN</td>\n",
       "      <td>NaN</td>\n",
       "      <td>NaN</td>\n",
       "      <td>NaN</td>\n",
       "      <td>NaN</td>\n",
       "      <td>https://about.twitter.com/products/tweetdeck</td>\n",
       "      <td>False</td>\n",
       "      <td>{'user_mentions': [{'id_str': '1536791610', 'n...</td>\n",
       "      <td>NaN</td>\n",
       "    </tr>\n",
       "    <tr>\n",
       "      <th>3</th>\n",
       "      <td>780907038650068994</td>\n",
       "      <td>HillaryClinton</td>\n",
       "      <td>If we stand together, there's nothing we can't...</td>\n",
       "      <td>False</td>\n",
       "      <td>NaN</td>\n",
       "      <td>2016-09-27T23:08:41</td>\n",
       "      <td>NaN</td>\n",
       "      <td>NaN</td>\n",
       "      <td>NaN</td>\n",
       "      <td>False</td>\n",
       "      <td>...</td>\n",
       "      <td>NaN</td>\n",
       "      <td>NaN</td>\n",
       "      <td>NaN</td>\n",
       "      <td>NaN</td>\n",
       "      <td>NaN</td>\n",
       "      <td>NaN</td>\n",
       "      <td>https://studio.twitter.com</td>\n",
       "      <td>False</td>\n",
       "      <td>{'media': [{'display_url': 'pic.twitter.com/Q3...</td>\n",
       "      <td>{'media': [{'display_url': 'pic.twitter.com/Q3...</td>\n",
       "    </tr>\n",
       "    <tr>\n",
       "      <th>4</th>\n",
       "      <td>780897419462602752</td>\n",
       "      <td>HillaryClinton</td>\n",
       "      <td>Both candidates were asked about how they'd co...</td>\n",
       "      <td>False</td>\n",
       "      <td>NaN</td>\n",
       "      <td>2016-09-27T22:30:27</td>\n",
       "      <td>NaN</td>\n",
       "      <td>NaN</td>\n",
       "      <td>NaN</td>\n",
       "      <td>False</td>\n",
       "      <td>...</td>\n",
       "      <td>NaN</td>\n",
       "      <td>NaN</td>\n",
       "      <td>NaN</td>\n",
       "      <td>NaN</td>\n",
       "      <td>NaN</td>\n",
       "      <td>NaN</td>\n",
       "      <td>https://about.twitter.com/products/tweetdeck</td>\n",
       "      <td>False</td>\n",
       "      <td>{'user_mentions': [], 'symbols': [], 'urls': [...</td>\n",
       "      <td>NaN</td>\n",
       "    </tr>\n",
       "    <tr>\n",
       "      <th>...</th>\n",
       "      <td>...</td>\n",
       "      <td>...</td>\n",
       "      <td>...</td>\n",
       "      <td>...</td>\n",
       "      <td>...</td>\n",
       "      <td>...</td>\n",
       "      <td>...</td>\n",
       "      <td>...</td>\n",
       "      <td>...</td>\n",
       "      <td>...</td>\n",
       "      <td>...</td>\n",
       "      <td>...</td>\n",
       "      <td>...</td>\n",
       "      <td>...</td>\n",
       "      <td>...</td>\n",
       "      <td>...</td>\n",
       "      <td>...</td>\n",
       "      <td>...</td>\n",
       "      <td>...</td>\n",
       "      <td>...</td>\n",
       "      <td>...</td>\n",
       "    </tr>\n",
       "    <tr>\n",
       "      <th>6439</th>\n",
       "      <td>684219579548041218</td>\n",
       "      <td>realDonaldTrump</td>\n",
       "      <td>\"@lilredfrmkokomo: @realDonaldTrump My Faceboo...</td>\n",
       "      <td>False</td>\n",
       "      <td>NaN</td>\n",
       "      <td>2016-01-05T03:47:14</td>\n",
       "      <td>NaN</td>\n",
       "      <td>NaN</td>\n",
       "      <td>NaN</td>\n",
       "      <td>False</td>\n",
       "      <td>...</td>\n",
       "      <td>NaN</td>\n",
       "      <td>NaN</td>\n",
       "      <td>NaN</td>\n",
       "      <td>NaN</td>\n",
       "      <td>NaN</td>\n",
       "      <td>NaN</td>\n",
       "      <td>http://twitter.com/download/android</td>\n",
       "      <td>False</td>\n",
       "      <td>{'user_mentions': [{'id_str': '26122621', 'nam...</td>\n",
       "      <td>NaN</td>\n",
       "    </tr>\n",
       "    <tr>\n",
       "      <th>6440</th>\n",
       "      <td>684218836569206784</td>\n",
       "      <td>realDonaldTrump</td>\n",
       "      <td>\"@marybnall01: @realDonaldTrump watched lowell...</td>\n",
       "      <td>False</td>\n",
       "      <td>NaN</td>\n",
       "      <td>2016-01-05T03:44:17</td>\n",
       "      <td>NaN</td>\n",
       "      <td>NaN</td>\n",
       "      <td>NaN</td>\n",
       "      <td>False</td>\n",
       "      <td>...</td>\n",
       "      <td>NaN</td>\n",
       "      <td>NaN</td>\n",
       "      <td>NaN</td>\n",
       "      <td>NaN</td>\n",
       "      <td>NaN</td>\n",
       "      <td>NaN</td>\n",
       "      <td>http://twitter.com/download/android</td>\n",
       "      <td>False</td>\n",
       "      <td>{'user_mentions': [{'id_str': '3477455725', 'n...</td>\n",
       "      <td>NaN</td>\n",
       "    </tr>\n",
       "    <tr>\n",
       "      <th>6441</th>\n",
       "      <td>684218305100525569</td>\n",
       "      <td>realDonaldTrump</td>\n",
       "      <td>\"@ghosthunter_lol: Iowa key endorsement for @r...</td>\n",
       "      <td>False</td>\n",
       "      <td>NaN</td>\n",
       "      <td>2016-01-05T03:42:10</td>\n",
       "      <td>NaN</td>\n",
       "      <td>NaN</td>\n",
       "      <td>NaN</td>\n",
       "      <td>False</td>\n",
       "      <td>...</td>\n",
       "      <td>NaN</td>\n",
       "      <td>NaN</td>\n",
       "      <td>NaN</td>\n",
       "      <td>NaN</td>\n",
       "      <td>NaN</td>\n",
       "      <td>NaN</td>\n",
       "      <td>http://twitter.com/download/android</td>\n",
       "      <td>False</td>\n",
       "      <td>{'media': [{'display_url': 'pic.twitter.com/JB...</td>\n",
       "      <td>{'media': [{'display_url': 'pic.twitter.com/JB...</td>\n",
       "    </tr>\n",
       "    <tr>\n",
       "      <th>6442</th>\n",
       "      <td>684217554861199360</td>\n",
       "      <td>realDonaldTrump</td>\n",
       "      <td>\"@iLoveiDevices: @EdwinRo47796972 @happyjack22...</td>\n",
       "      <td>False</td>\n",
       "      <td>NaN</td>\n",
       "      <td>2016-01-05T03:39:11</td>\n",
       "      <td>NaN</td>\n",
       "      <td>NaN</td>\n",
       "      <td>NaN</td>\n",
       "      <td>False</td>\n",
       "      <td>...</td>\n",
       "      <td>NaN</td>\n",
       "      <td>NaN</td>\n",
       "      <td>NaN</td>\n",
       "      <td>NaN</td>\n",
       "      <td>NaN</td>\n",
       "      <td>NaN</td>\n",
       "      <td>http://twitter.com/download/android</td>\n",
       "      <td>False</td>\n",
       "      <td>{'user_mentions': [{'id_str': '42568997', 'nam...</td>\n",
       "      <td>NaN</td>\n",
       "    </tr>\n",
       "    <tr>\n",
       "      <th>6443</th>\n",
       "      <td>684216973815844866</td>\n",
       "      <td>realDonaldTrump</td>\n",
       "      <td>\"@SalRiccobono: @realDonaldTrump @troyconway D...</td>\n",
       "      <td>False</td>\n",
       "      <td>NaN</td>\n",
       "      <td>2016-01-05T03:36:53</td>\n",
       "      <td>NaN</td>\n",
       "      <td>NaN</td>\n",
       "      <td>NaN</td>\n",
       "      <td>False</td>\n",
       "      <td>...</td>\n",
       "      <td>NaN</td>\n",
       "      <td>NaN</td>\n",
       "      <td>NaN</td>\n",
       "      <td>NaN</td>\n",
       "      <td>NaN</td>\n",
       "      <td>NaN</td>\n",
       "      <td>http://twitter.com/download/android</td>\n",
       "      <td>False</td>\n",
       "      <td>{'user_mentions': [{'id_str': '2358794621', 'n...</td>\n",
       "      <td>NaN</td>\n",
       "    </tr>\n",
       "  </tbody>\n",
       "</table>\n",
       "<p>6444 rows × 28 columns</p>\n",
       "</div>"
      ],
      "text/plain": [
       "                      id           handle  \\\n",
       "0     780925634159796224   HillaryClinton   \n",
       "1     780916180899037184   HillaryClinton   \n",
       "2     780911564857761793   HillaryClinton   \n",
       "3     780907038650068994   HillaryClinton   \n",
       "4     780897419462602752   HillaryClinton   \n",
       "...                  ...              ...   \n",
       "6439  684219579548041218  realDonaldTrump   \n",
       "6440  684218836569206784  realDonaldTrump   \n",
       "6441  684218305100525569  realDonaldTrump   \n",
       "6442  684217554861199360  realDonaldTrump   \n",
       "6443  684216973815844866  realDonaldTrump   \n",
       "\n",
       "                                                   text  is_retweet  \\\n",
       "0     The question in this election: Who can put the...       False   \n",
       "1     Last night, Donald Trump said not paying taxes...        True   \n",
       "2     Couldn't be more proud of @HillaryClinton. Her...        True   \n",
       "3     If we stand together, there's nothing we can't...       False   \n",
       "4     Both candidates were asked about how they'd co...       False   \n",
       "...                                                 ...         ...   \n",
       "6439  \"@lilredfrmkokomo: @realDonaldTrump My Faceboo...       False   \n",
       "6440  \"@marybnall01: @realDonaldTrump watched lowell...       False   \n",
       "6441  \"@ghosthunter_lol: Iowa key endorsement for @r...       False   \n",
       "6442  \"@iLoveiDevices: @EdwinRo47796972 @happyjack22...       False   \n",
       "6443  \"@SalRiccobono: @realDonaldTrump @troyconway D...       False   \n",
       "\n",
       "     original_author                 time in_reply_to_screen_name  \\\n",
       "0                NaN  2016-09-28T00:22:34                     NaN   \n",
       "1           timkaine  2016-09-27T23:45:00                     NaN   \n",
       "2              POTUS  2016-09-27T23:26:40                     NaN   \n",
       "3                NaN  2016-09-27T23:08:41                     NaN   \n",
       "4                NaN  2016-09-27T22:30:27                     NaN   \n",
       "...              ...                  ...                     ...   \n",
       "6439             NaN  2016-01-05T03:47:14                     NaN   \n",
       "6440             NaN  2016-01-05T03:44:17                     NaN   \n",
       "6441             NaN  2016-01-05T03:42:10                     NaN   \n",
       "6442             NaN  2016-01-05T03:39:11                     NaN   \n",
       "6443             NaN  2016-01-05T03:36:53                     NaN   \n",
       "\n",
       "      in_reply_to_status_id  in_reply_to_user_id  is_quote_status  ...  \\\n",
       "0                       NaN                  NaN            False  ...   \n",
       "1                       NaN                  NaN            False  ...   \n",
       "2                       NaN                  NaN            False  ...   \n",
       "3                       NaN                  NaN            False  ...   \n",
       "4                       NaN                  NaN            False  ...   \n",
       "...                     ...                  ...              ...  ...   \n",
       "6439                    NaN                  NaN            False  ...   \n",
       "6440                    NaN                  NaN            False  ...   \n",
       "6441                    NaN                  NaN            False  ...   \n",
       "6442                    NaN                  NaN            False  ...   \n",
       "6443                    NaN                  NaN            False  ...   \n",
       "\n",
       "     place_type  place_country_code  place_country  place_contained_within  \\\n",
       "0           NaN                 NaN            NaN                     NaN   \n",
       "1           NaN                 NaN            NaN                     NaN   \n",
       "2           NaN                 NaN            NaN                     NaN   \n",
       "3           NaN                 NaN            NaN                     NaN   \n",
       "4           NaN                 NaN            NaN                     NaN   \n",
       "...         ...                 ...            ...                     ...   \n",
       "6439        NaN                 NaN            NaN                     NaN   \n",
       "6440        NaN                 NaN            NaN                     NaN   \n",
       "6441        NaN                 NaN            NaN                     NaN   \n",
       "6442        NaN                 NaN            NaN                     NaN   \n",
       "6443        NaN                 NaN            NaN                     NaN   \n",
       "\n",
       "      place_attributes place_bounding_box  \\\n",
       "0                  NaN                NaN   \n",
       "1                  NaN                NaN   \n",
       "2                  NaN                NaN   \n",
       "3                  NaN                NaN   \n",
       "4                  NaN                NaN   \n",
       "...                ...                ...   \n",
       "6439               NaN                NaN   \n",
       "6440               NaN                NaN   \n",
       "6441               NaN                NaN   \n",
       "6442               NaN                NaN   \n",
       "6443               NaN                NaN   \n",
       "\n",
       "                                        source_url truncated  \\\n",
       "0                       https://studio.twitter.com     False   \n",
       "1                               http://twitter.com     False   \n",
       "2     https://about.twitter.com/products/tweetdeck     False   \n",
       "3                       https://studio.twitter.com     False   \n",
       "4     https://about.twitter.com/products/tweetdeck     False   \n",
       "...                                            ...       ...   \n",
       "6439           http://twitter.com/download/android     False   \n",
       "6440           http://twitter.com/download/android     False   \n",
       "6441           http://twitter.com/download/android     False   \n",
       "6442           http://twitter.com/download/android     False   \n",
       "6443           http://twitter.com/download/android     False   \n",
       "\n",
       "                                               entities  \\\n",
       "0     {'media': [{'display_url': 'pic.twitter.com/Xr...   \n",
       "1     {'media': [{'display_url': 'pic.twitter.com/t0...   \n",
       "2     {'user_mentions': [{'id_str': '1536791610', 'n...   \n",
       "3     {'media': [{'display_url': 'pic.twitter.com/Q3...   \n",
       "4     {'user_mentions': [], 'symbols': [], 'urls': [...   \n",
       "...                                                 ...   \n",
       "6439  {'user_mentions': [{'id_str': '26122621', 'nam...   \n",
       "6440  {'user_mentions': [{'id_str': '3477455725', 'n...   \n",
       "6441  {'media': [{'display_url': 'pic.twitter.com/JB...   \n",
       "6442  {'user_mentions': [{'id_str': '42568997', 'nam...   \n",
       "6443  {'user_mentions': [{'id_str': '2358794621', 'n...   \n",
       "\n",
       "                                      extended_entities  \n",
       "0     {'media': [{'display_url': 'pic.twitter.com/Xr...  \n",
       "1     {'media': [{'display_url': 'pic.twitter.com/t0...  \n",
       "2                                                   NaN  \n",
       "3     {'media': [{'display_url': 'pic.twitter.com/Q3...  \n",
       "4                                                   NaN  \n",
       "...                                                 ...  \n",
       "6439                                                NaN  \n",
       "6440                                                NaN  \n",
       "6441  {'media': [{'display_url': 'pic.twitter.com/JB...  \n",
       "6442                                                NaN  \n",
       "6443                                                NaN  \n",
       "\n",
       "[6444 rows x 28 columns]"
      ]
     },
     "execution_count": 11,
     "metadata": {},
     "output_type": "execute_result"
    }
   ],
   "source": [
    "p.df"
   ]
  },
  {
   "cell_type": "code",
   "execution_count": 12,
   "metadata": {
    "scrolled": true
   },
   "outputs": [
    {
     "ename": "ImportError",
     "evalue": "Matplotlib requires dateutil>=2.7; you have 2.6.0",
     "output_type": "error",
     "traceback": [
      "\u001b[1;31m---------------------------------------------------------------------------\u001b[0m",
      "\u001b[1;31mImportError\u001b[0m                               Traceback (most recent call last)",
      "\u001b[1;32mc:\\Users\\Dell\\source\\repos\\gordian\\Graph_Processing_Prototyping.ipynb Cell 10\u001b[0m in \u001b[0;36m<cell line: 1>\u001b[1;34m()\u001b[0m\n\u001b[1;32m----> <a href='vscode-notebook-cell:/c%3A/Users/Dell/source/repos/gordian/Graph_Processing_Prototyping.ipynb#X12sZmlsZQ%3D%3D?line=0'>1</a>\u001b[0m p\u001b[39m.\u001b[39;49mdraw()\n",
      "File \u001b[1;32mc:\\Users\\Dell\\source\\repos\\gordian\\modules\\document_processing.py:112\u001b[0m, in \u001b[0;36mDocumentGraphProcessing.draw\u001b[1;34m(self)\u001b[0m\n\u001b[0;32m    110\u001b[0m \u001b[39mdef\u001b[39;00m \u001b[39mdraw\u001b[39m(\u001b[39mself\u001b[39m):  \n\u001b[1;32m--> 112\u001b[0m     \u001b[39mimport\u001b[39;00m \u001b[39mmatplotlib\u001b[39;00m\u001b[39m.\u001b[39;00m\u001b[39mpyplot\u001b[39;00m \u001b[39mas\u001b[39;00m \u001b[39mplt\u001b[39;00m\n\u001b[0;32m    113\u001b[0m     \u001b[39m# larger figure size\u001b[39;00m\n\u001b[0;32m    114\u001b[0m     plt\u001b[39m.\u001b[39mfigure(\u001b[39m3\u001b[39m,figsize\u001b[39m=\u001b[39m(\u001b[39m12\u001b[39m,\u001b[39m12\u001b[39m)) \n",
      "File \u001b[1;32mc:\\Program Files (x86)\\Microsoft Visual Studio\\Shared\\Python39_64\\lib\\site-packages\\matplotlib\\__init__.py:157\u001b[0m, in \u001b[0;36m<module>\u001b[1;34m\u001b[0m\n\u001b[0;32m    152\u001b[0m         \u001b[39mif\u001b[39;00m LooseVersion(module\u001b[39m.\u001b[39m__version__) \u001b[39m<\u001b[39m minver:\n\u001b[0;32m    153\u001b[0m             \u001b[39mraise\u001b[39;00m \u001b[39mImportError\u001b[39;00m(\u001b[39m\"\u001b[39m\u001b[39mMatplotlib requires \u001b[39m\u001b[39m{}\u001b[39;00m\u001b[39m>=\u001b[39m\u001b[39m{}\u001b[39;00m\u001b[39m; you have \u001b[39m\u001b[39m{}\u001b[39;00m\u001b[39m\"\u001b[39m\n\u001b[0;32m    154\u001b[0m                               \u001b[39m.\u001b[39mformat(modname, minver, module\u001b[39m.\u001b[39m__version__))\n\u001b[1;32m--> 157\u001b[0m _check_versions()\n\u001b[0;32m    160\u001b[0m \u001b[39m# The decorator ensures this always returns the same handler (and it is only\u001b[39;00m\n\u001b[0;32m    161\u001b[0m \u001b[39m# attached once).\u001b[39;00m\n\u001b[0;32m    162\u001b[0m \u001b[39m@functools\u001b[39m\u001b[39m.\u001b[39mlru_cache()\n\u001b[0;32m    163\u001b[0m \u001b[39mdef\u001b[39;00m \u001b[39m_ensure_handler\u001b[39m():\n",
      "File \u001b[1;32mc:\\Program Files (x86)\\Microsoft Visual Studio\\Shared\\Python39_64\\lib\\site-packages\\matplotlib\\__init__.py:153\u001b[0m, in \u001b[0;36m_check_versions\u001b[1;34m()\u001b[0m\n\u001b[0;32m    151\u001b[0m module \u001b[39m=\u001b[39m importlib\u001b[39m.\u001b[39mimport_module(modname)\n\u001b[0;32m    152\u001b[0m \u001b[39mif\u001b[39;00m LooseVersion(module\u001b[39m.\u001b[39m__version__) \u001b[39m<\u001b[39m minver:\n\u001b[1;32m--> 153\u001b[0m     \u001b[39mraise\u001b[39;00m \u001b[39mImportError\u001b[39;00m(\u001b[39m\"\u001b[39m\u001b[39mMatplotlib requires \u001b[39m\u001b[39m{}\u001b[39;00m\u001b[39m>=\u001b[39m\u001b[39m{}\u001b[39;00m\u001b[39m; you have \u001b[39m\u001b[39m{}\u001b[39;00m\u001b[39m\"\u001b[39m\n\u001b[0;32m    154\u001b[0m                       \u001b[39m.\u001b[39mformat(modname, minver, module\u001b[39m.\u001b[39m__version__))\n",
      "\u001b[1;31mImportError\u001b[0m: Matplotlib requires dateutil>=2.7; you have 2.6.0"
     ]
    }
   ],
   "source": [
    "p.draw()"
   ]
  },
  {
   "cell_type": "code",
   "execution_count": null,
   "metadata": {},
   "outputs": [],
   "source": [
    "p.n_nodes"
   ]
  },
  {
   "cell_type": "code",
   "execution_count": null,
   "metadata": {},
   "outputs": [],
   "source": [
    "p.all_edges"
   ]
  },
  {
   "cell_type": "code",
   "execution_count": null,
   "metadata": {},
   "outputs": [],
   "source": [
    "p.centrality.sort_values('betweenness', ascending = False)"
   ]
  },
  {
   "cell_type": "code",
   "execution_count": null,
   "metadata": {},
   "outputs": [],
   "source": [
    "p.write_gephi()"
   ]
  },
  {
   "cell_type": "markdown",
   "metadata": {},
   "source": [
    "## Edge and Node Lists"
   ]
  },
  {
   "cell_type": "code",
   "execution_count": null,
   "metadata": {},
   "outputs": [],
   "source": [
    "pd.DataFrame(p.all_edges, columns = [p.source_col, p.sink_col])"
   ]
  },
  {
   "cell_type": "code",
   "execution_count": null,
   "metadata": {},
   "outputs": [],
   "source": [
    "p.EDGELIST"
   ]
  },
  {
   "cell_type": "markdown",
   "metadata": {},
   "source": [
    "## Centrality Measurements"
   ]
  },
  {
   "cell_type": "code",
   "execution_count": null,
   "metadata": {},
   "outputs": [],
   "source": [
    "deg = nx.degree_centrality(p.g)"
   ]
  },
  {
   "cell_type": "code",
   "execution_count": null,
   "metadata": {},
   "outputs": [],
   "source": [
    "closeness = nx.closeness_centrality(p.g)"
   ]
  },
  {
   "cell_type": "code",
   "execution_count": null,
   "metadata": {},
   "outputs": [],
   "source": [
    "betweenness = nx.betweenness_centrality(p.g)"
   ]
  },
  {
   "cell_type": "code",
   "execution_count": null,
   "metadata": {},
   "outputs": [],
   "source": [
    "eigen = nx.eigenvector_centrality(p.g)"
   ]
  },
  {
   "cell_type": "code",
   "execution_count": null,
   "metadata": {},
   "outputs": [],
   "source": [
    "cen = pd.DataFrame([deg, closeness, betweenness, eigen]).transpose()\n",
    "cen.columns = ['degree', 'closeness', 'betweenness', 'eigenvector']\n",
    "cen['degree_nonnormal'] = cen.degree.apply(lambda x: int(round(x * p.n_nodes)))"
   ]
  },
  {
   "cell_type": "code",
   "execution_count": null,
   "metadata": {},
   "outputs": [],
   "source": [
    "cen"
   ]
  },
  {
   "cell_type": "code",
   "execution_count": null,
   "metadata": {},
   "outputs": [],
   "source": []
  }
 ],
 "metadata": {
  "kernelspec": {
   "display_name": "Python 3.9.5 64-bit",
   "language": "python",
   "name": "python3"
  },
  "language_info": {
   "codemirror_mode": {
    "name": "ipython",
    "version": 3
   },
   "file_extension": ".py",
   "mimetype": "text/x-python",
   "name": "python",
   "nbconvert_exporter": "python",
   "pygments_lexer": "ipython3",
   "version": "3.9.5"
  },
  "vscode": {
   "interpreter": {
    "hash": "c347c8f9a7ef94e4c9e03b4513be7835ed18f45b99a2a817fb579f408b867b16"
   }
  }
 },
 "nbformat": 4,
 "nbformat_minor": 2
}
